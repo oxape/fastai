{
  "nbformat": 4,
  "nbformat_minor": 0,
  "metadata": {
    "colab": {
      "name": "theanolens.ipynb",
      "version": "0.3.2",
      "provenance": [],
      "collapsed_sections": [],
      "toc_visible": true
    },
    "kernelspec": {
      "name": "python3",
      "display_name": "Python 3"
    },
    "accelerator": "TPU"
  },
  "cells": [
    {
      "cell_type": "code",
      "metadata": {
        "id": "wKPEQfyEjek-",
        "colab_type": "code",
        "colab": {}
      },
      "source": [
        "import theano\n",
        "import theano.tensor as T\n",
        "import numpy as np"
      ],
      "execution_count": 0,
      "outputs": []
    },
    {
      "cell_type": "markdown",
      "metadata": {
        "id": "uXBkMCKJR0By",
        "colab_type": "text"
      },
      "source": [
        "# $A^k$"
      ]
    },
    {
      "cell_type": "code",
      "metadata": {
        "id": "LdBlz4a-RuBY",
        "colab_type": "code",
        "colab": {}
      },
      "source": [
        "k = T.iscalar('k')\n",
        "A = T.vector( 'A')\n",
        "\n",
        "results, updates = theano.scan(lambda priopri_result, A : priopri_result * A,\n",
        "             non_sequences = A, outputs_info=T.ones_like(A), n_steps = k)"
      ],
      "execution_count": 0,
      "outputs": []
    },
    {
      "cell_type": "code",
      "metadata": {
        "id": "kO9TeyGDRvqd",
        "colab_type": "code",
        "colab": {}
      },
      "source": [
        "fn_Ak = theano.function([A, k], results)"
      ],
      "execution_count": 0,
      "outputs": []
    },
    {
      "cell_type": "code",
      "metadata": {
        "id": "8oKutWm6RvxV",
        "colab_type": "code",
        "outputId": "5d684a9e-8010-45b8-ef4c-af427f119c28",
        "colab": {
          "base_uri": "https://localhost:8080/",
          "height": 51
        }
      },
      "source": [
        "print(fn_Ak(range(10), 2))"
      ],
      "execution_count": 0,
      "outputs": [
        {
          "output_type": "stream",
          "text": [
            "[[ 0.  1.  2.  3.  4.  5.  6.  7.  8.  9.]\n",
            " [ 0.  1.  4.  9. 16. 25. 36. 49. 64. 81.]]\n"
          ],
          "name": "stdout"
        }
      ]
    },
    {
      "cell_type": "code",
      "metadata": {
        "id": "LN8JLkKqRv3T",
        "colab_type": "code",
        "outputId": "c812f1b0-43c8-42e9-d607-695708042f57",
        "colab": {
          "base_uri": "https://localhost:8080/",
          "height": 68
        }
      },
      "source": [
        "print(fn_Ak(range(10), 3))"
      ],
      "execution_count": 0,
      "outputs": [
        {
          "output_type": "stream",
          "text": [
            "[[  0.   1.   2.   3.   4.   5.   6.   7.   8.   9.]\n",
            " [  0.   1.   4.   9.  16.  25.  36.  49.  64.  81.]\n",
            " [  0.   1.   8.  27.  64. 125. 216. 343. 512. 729.]]\n"
          ],
          "name": "stdout"
        }
      ]
    },
    {
      "cell_type": "code",
      "metadata": {
        "id": "DdYKCaEWSOha",
        "colab_type": "code",
        "outputId": "39daf670-39cd-493f-9134-2cdc4a750f87",
        "colab": {
          "base_uri": "https://localhost:8080/",
          "height": 51
        }
      },
      "source": [
        "print(fn_Ak(range(0, 10, 2), 2))"
      ],
      "execution_count": 0,
      "outputs": [
        {
          "output_type": "stream",
          "text": [
            "[[ 0.  2.  4.  6.  8.]\n",
            " [ 0.  4. 16. 36. 64.]]\n"
          ],
          "name": "stdout"
        }
      ]
    },
    {
      "cell_type": "markdown",
      "metadata": {
        "id": "2EGOh7y3TasL",
        "colab_type": "text"
      },
      "source": [
        "# $A^k$"
      ]
    },
    {
      "cell_type": "code",
      "metadata": {
        "id": "Ps8wPns3R7UJ",
        "colab_type": "code",
        "colab": {}
      },
      "source": [
        "k = T.iscalar('k')\n",
        "A = T.iscalar('A')\n",
        "\n",
        "results, updates = theano.scan(lambda priopri_result, A: priopri_result*A,\n",
        "                               non_sequences = A,\n",
        "                               outputs_info = np.asarray(1, A.dtype), \n",
        "                               n_steps = k)"
      ],
      "execution_count": 0,
      "outputs": []
    },
    {
      "cell_type": "code",
      "metadata": {
        "id": "KuS8xwyDSzZL",
        "colab_type": "code",
        "colab": {}
      },
      "source": [
        "fn_Ak_scan = theano.function([A, k], results)"
      ],
      "execution_count": 0,
      "outputs": []
    },
    {
      "cell_type": "code",
      "metadata": {
        "id": "dMlzdNS4S1PJ",
        "colab_type": "code",
        "outputId": "733f5072-9377-4328-9615-a8bf08f16066",
        "colab": {
          "base_uri": "https://localhost:8080/",
          "height": 34
        }
      },
      "source": [
        "print(fn_Ak_scan(3, 3))"
      ],
      "execution_count": 0,
      "outputs": [
        {
          "output_type": "stream",
          "text": [
            "[ 3  9 27]\n"
          ],
          "name": "stdout"
        }
      ]
    },
    {
      "cell_type": "markdown",
      "metadata": {
        "id": "CJSjVUOOeULW",
        "colab_type": "text"
      },
      "source": [
        "# $f = 1 + 2 + 3 + ... + n$"
      ]
    },
    {
      "cell_type": "code",
      "metadata": {
        "id": "09IhgxJrjraE",
        "colab_type": "code",
        "colab": {}
      },
      "source": [
        "v = T.vector('v')\n",
        "\n",
        "results, updates = theano.scan(fn=lambda v, priori_result: v + priori_result, \n",
        "                               sequences=v, \n",
        "                               outputs_info=np.asarray(0, v.dtype))"
      ],
      "execution_count": 0,
      "outputs": []
    },
    {
      "cell_type": "code",
      "metadata": {
        "id": "XBKEsRl2r0zq",
        "colab_type": "code",
        "colab": {}
      },
      "source": [
        "sum_scan = theano.function([v], results)"
      ],
      "execution_count": 0,
      "outputs": []
    },
    {
      "cell_type": "code",
      "metadata": {
        "id": "n1N3iB4JtFeX",
        "colab_type": "code",
        "cellView": "code",
        "outputId": "d0588650-c80a-4f85-94d8-02e03b2cd3c7",
        "colab": {
          "base_uri": "https://localhost:8080/",
          "height": 34
        }
      },
      "source": [
        "sum_scan([1, 2, 3])"
      ],
      "execution_count": 0,
      "outputs": [
        {
          "output_type": "execute_result",
          "data": {
            "text/plain": [
              "array([1., 3., 6.])"
            ]
          },
          "metadata": {
            "tags": []
          },
          "execution_count": 4
        }
      ]
    },
    {
      "cell_type": "markdown",
      "metadata": {
        "id": "VMNt_k7menWh",
        "colab_type": "text"
      },
      "source": [
        "# $f = 1 + 2 + 3 + ... + n$"
      ]
    },
    {
      "cell_type": "code",
      "metadata": {
        "id": "SEV0pEuCen_D",
        "colab_type": "code",
        "colab": {}
      },
      "source": [
        "x = T.scalar('x')\n",
        "seq=T.arange(x)\n",
        "\n",
        "results, updates = theano.scan(fn = lambda x, priori_result: x + priori_result,\n",
        "                              sequences=seq,\n",
        "                              outputs_info=np.asarray(0, x.dtype))"
      ],
      "execution_count": 0,
      "outputs": []
    },
    {
      "cell_type": "code",
      "metadata": {
        "id": "k0WKqJh5fJ5A",
        "colab_type": "code",
        "colab": {}
      },
      "source": [
        "scalar_sum_scan = theano.function([x], results)"
      ],
      "execution_count": 0,
      "outputs": []
    },
    {
      "cell_type": "code",
      "metadata": {
        "id": "dAe13L-Tfg1P",
        "colab_type": "code",
        "outputId": "f878e409-6069-4bdb-97e2-8fb81fe77602",
        "colab": {
          "base_uri": "https://localhost:8080/",
          "height": 34
        }
      },
      "source": [
        "scalar_sum_scan(10)"
      ],
      "execution_count": 0,
      "outputs": [
        {
          "output_type": "execute_result",
          "data": {
            "text/plain": [
              "array([ 0.,  1.,  3.,  6., 10., 15., 21., 28., 36., 45.])"
            ]
          },
          "metadata": {
            "tags": []
          },
          "execution_count": 13
        }
      ]
    },
    {
      "cell_type": "markdown",
      "metadata": {
        "id": "j92xyZFR6Ett",
        "colab_type": "text"
      },
      "source": [
        "# $f = 1 + 2 + 3 + ... + n$"
      ]
    },
    {
      "cell_type": "code",
      "metadata": {
        "id": "04Vs0Bm-fl3a",
        "colab_type": "code",
        "colab": {}
      },
      "source": [
        "x = T.imatrix('x')\n",
        "  \n",
        "results, updates = theano.scan(fn = lambda x, priori_result: x + priori_result,\n",
        "                              sequences=x,\n",
        "                              outputs_info=T.zeros_like(x))"
      ],
      "execution_count": 0,
      "outputs": []
    },
    {
      "cell_type": "code",
      "metadata": {
        "id": "qOqmOP-duwWY",
        "colab_type": "code",
        "colab": {}
      },
      "source": [
        "matrix_scan = theano.function([x], results)"
      ],
      "execution_count": 0,
      "outputs": []
    },
    {
      "cell_type": "code",
      "metadata": {
        "id": "qb-O0os5vtPG",
        "colab_type": "code",
        "outputId": "7ab9c7f4-3be4-43db-8ae6-89a5f2c55da0",
        "colab": {
          "base_uri": "https://localhost:8080/",
          "height": 102
        }
      },
      "source": [
        "print(matrix_scan([[1, 2], [3, 4]]))"
      ],
      "execution_count": 0,
      "outputs": [
        {
          "output_type": "stream",
          "text": [
            "[[[1 2]\n",
            "  [1 2]]\n",
            "\n",
            " [[4 6]\n",
            "  [4 6]]]\n"
          ],
          "name": "stdout"
        }
      ]
    },
    {
      "cell_type": "code",
      "metadata": {
        "id": "N-bfUassyCMI",
        "colab_type": "code",
        "outputId": "c84abcd4-ce40-40c1-91e0-c035a63b0ad1",
        "colab": {
          "base_uri": "https://localhost:8080/",
          "height": 85
        }
      },
      "source": [
        "for e in [[1, 2], [3, 4]]:\n",
        "  print(e)\n",
        "  print(\"##\")"
      ],
      "execution_count": 0,
      "outputs": [
        {
          "output_type": "stream",
          "text": [
            "[1, 2]\n",
            "##\n",
            "[3, 4]\n",
            "##\n"
          ],
          "name": "stdout"
        }
      ]
    },
    {
      "cell_type": "markdown",
      "metadata": {
        "id": "fLZKM2r56GKs",
        "colab_type": "text"
      },
      "source": [
        "# $f = 1 + 2 + 3 + ... + n$"
      ]
    },
    {
      "cell_type": "code",
      "metadata": {
        "id": "EsvD5Ikg6GpF",
        "colab_type": "code",
        "colab": {}
      },
      "source": [
        "x = T.imatrix('x')\n",
        "\n",
        "results, updates = theano.scan(fn = lambda x, priori_result: x + priori_result,\n",
        "                              sequences=theano.tensor.join(0, x),\n",
        "                              outputs_info=T.zeros_like(x))"
      ],
      "execution_count": 0,
      "outputs": []
    },
    {
      "cell_type": "code",
      "metadata": {
        "id": "27hxHS336MB-",
        "colab_type": "code",
        "colab": {}
      },
      "source": [
        "matrix_scan = theano.function([x], results)"
      ],
      "execution_count": 0,
      "outputs": []
    },
    {
      "cell_type": "code",
      "metadata": {
        "id": "nE1_JS3k7Hcz",
        "colab_type": "code",
        "outputId": "b93e5aa7-818a-4c2e-9936-034788d38cc1",
        "colab": {
          "base_uri": "https://localhost:8080/",
          "height": 102
        }
      },
      "source": [
        "print(matrix_scan([[1, 2], [3, 4]]))"
      ],
      "execution_count": 0,
      "outputs": [
        {
          "output_type": "stream",
          "text": [
            "[[[1 2]\n",
            "  [1 2]]\n",
            "\n",
            " [[4 6]\n",
            "  [4 6]]]\n"
          ],
          "name": "stdout"
        }
      ]
    },
    {
      "cell_type": "markdown",
      "metadata": {
        "id": "jdB7iaMr7I2m",
        "colab_type": "text"
      },
      "source": [
        "# $\\sum_{n=0}^Na_nX^n$"
      ]
    },
    {
      "cell_type": "code",
      "metadata": {
        "id": "Wm6f5p01BfJt",
        "colab_type": "code",
        "colab": {}
      },
      "source": [
        "x = T.scalar('x')\n",
        "\n",
        "A = T.vector('A')\n",
        "\n",
        "N = T.ivector('N')\n",
        "\n",
        "results, updates = theano.scan(fn = lambda A, N, x: A*(x**N),\n",
        "                               sequences=[A, N],\n",
        "                               non_sequences=x)"
      ],
      "execution_count": 0,
      "outputs": []
    },
    {
      "cell_type": "code",
      "metadata": {
        "id": "P7MzqzQYCBif",
        "colab_type": "code",
        "colab": {}
      },
      "source": [
        "result = results.sum()\n",
        "\n",
        "polynomial = theano.function([x, A, N], result)"
      ],
      "execution_count": 0,
      "outputs": []
    },
    {
      "cell_type": "code",
      "metadata": {
        "id": "GagAwNM3CEyh",
        "colab_type": "code",
        "outputId": "e40021fb-4002-4436-e46e-9f396a9dd105",
        "colab": {
          "base_uri": "https://localhost:8080/",
          "height": 34
        }
      },
      "source": [
        "print(polynomial(10, \n",
        "                 [1, 3, 2],\n",
        "                 [0, 2, 3]))"
      ],
      "execution_count": 0,
      "outputs": [
        {
          "output_type": "stream",
          "text": [
            "2301.0\n"
          ],
          "name": "stdout"
        }
      ]
    },
    {
      "cell_type": "markdown",
      "metadata": {
        "id": "K3r8xysHTX0U",
        "colab_type": "text"
      },
      "source": [
        "# $\\sum_{n=0}^Na_nX^n$"
      ]
    },
    {
      "cell_type": "code",
      "metadata": {
        "id": "eeCJiBFVCJ65",
        "colab_type": "code",
        "colab": {}
      },
      "source": [
        "x = T.iscalar('x')\n",
        "\n",
        "A = T.ivector('A')\n",
        "\n",
        "N = T.ivector('N')\n",
        "\n",
        "results, updates = theano.scan(fn = lambda A, N, priopri_result, x: priopri_result+A*(x**N),\n",
        "                               sequences=[A, N],\n",
        "                               non_sequences=x, \n",
        "                               outputs_info=np.asarray(0, x.dtype))"
      ],
      "execution_count": 0,
      "outputs": []
    },
    {
      "cell_type": "code",
      "metadata": {
        "id": "sts-z2n4QmyE",
        "colab_type": "code",
        "colab": {}
      },
      "source": [
        "polynomial_scan = theano.function([x, A, N], results)"
      ],
      "execution_count": 0,
      "outputs": []
    },
    {
      "cell_type": "code",
      "metadata": {
        "id": "df8tkUDKQqIx",
        "colab_type": "code",
        "outputId": "90dfb650-30d0-444e-aaab-9db4f27a317c",
        "colab": {
          "base_uri": "https://localhost:8080/",
          "height": 34
        }
      },
      "source": [
        "print(polynomial_scan(10, \n",
        "                 [1, 3, 2],\n",
        "                 [0, 2, 3]))"
      ],
      "execution_count": 0,
      "outputs": [
        {
          "output_type": "stream",
          "text": [
            "[   1  301 2301]\n"
          ],
          "name": "stdout"
        }
      ]
    },
    {
      "cell_type": "code",
      "metadata": {
        "id": "w_IhoOyjRcua",
        "colab_type": "code",
        "outputId": "633bf366-ef2b-4f51-aa61-1993632c3cde",
        "colab": {
          "base_uri": "https://localhost:8080/",
          "height": 34
        }
      },
      "source": [
        "print(np.array(10))"
      ],
      "execution_count": 0,
      "outputs": [
        {
          "output_type": "stream",
          "text": [
            "10\n"
          ],
          "name": "stdout"
        }
      ]
    },
    {
      "cell_type": "markdown",
      "metadata": {
        "id": "XlvOuDBQUfsI",
        "colab_type": "text"
      },
      "source": [
        "# $f = 1 + 2 + 3 + ... + n$\n",
        "共享变量"
      ]
    },
    {
      "cell_type": "code",
      "metadata": {
        "id": "K9eqVfVjWYP9",
        "colab_type": "code",
        "colab": {}
      },
      "source": [
        "n = theano.shared(np.asarray(0))\n",
        "k = T.iscalar(\"k\")\n",
        "\n",
        "# 这里 lambda 的返回值是一个 dict，因此这个值会被传入 updates 中\n",
        "_, updates = theano.scan(fn = lambda n: {n:n+1},\n",
        "                         non_sequences = n,\n",
        "                         n_steps = k)"
      ],
      "execution_count": 0,
      "outputs": []
    },
    {
      "cell_type": "code",
      "metadata": {
        "id": "ragUdd52WhOE",
        "colab_type": "code",
        "colab": {}
      },
      "source": [
        "counter = theano.function(inputs = [k], \n",
        "                          outputs = [],\n",
        "                          updates = updates)"
      ],
      "execution_count": 0,
      "outputs": []
    },
    {
      "cell_type": "code",
      "metadata": {
        "id": "fSmezTLAWimK",
        "colab_type": "code",
        "outputId": "23d4a76c-0531-45a8-cbd7-8391bd7ab71e",
        "colab": {
          "base_uri": "https://localhost:8080/",
          "height": 68
        }
      },
      "source": [
        "print(n.get_value())\n",
        "counter(10)\n",
        "print(n.get_value())\n",
        "counter(10)\n",
        "print(n.get_value())"
      ],
      "execution_count": 0,
      "outputs": [
        {
          "output_type": "stream",
          "text": [
            "0\n",
            "10\n",
            "20\n"
          ],
          "name": "stdout"
        }
      ]
    },
    {
      "cell_type": "markdown",
      "metadata": {
        "id": "-MGTfmD0YDLN",
        "colab_type": "text"
      },
      "source": [
        "# until"
      ]
    },
    {
      "cell_type": "code",
      "metadata": {
        "id": "WQfLtMUIWnRK",
        "colab_type": "code",
        "colab": {}
      },
      "source": [
        "max_value = T.scalar()\n",
        "\n",
        "results, _ = theano.scan(fn = lambda v_pre, max_v: (v_pre * 2, theano.scan_module.until(v_pre * 2 > max_v)), \n",
        "                         outputs_info = T.constant(1.),\n",
        "                         non_sequences = max_value,\n",
        "                         n_steps = 1000)"
      ],
      "execution_count": 0,
      "outputs": []
    },
    {
      "cell_type": "code",
      "metadata": {
        "id": "9EU7BH1DXx8-",
        "colab_type": "code",
        "colab": {}
      },
      "source": [
        "# 注意，这里不能取 results 的全部\n",
        "# 例如在输入值为 40 时，最后的输出可以看成 (64, False)\n",
        "# scan 发现停止条件满足，停止循环，但是不影响 64 被输出到 results 中，因此要将 64 去掉\n",
        "power_of_2 = theano.function(inputs = [max_value], outputs = results[:-1])"
      ],
      "execution_count": 0,
      "outputs": []
    },
    {
      "cell_type": "code",
      "metadata": {
        "id": "41tIYYkYX0sR",
        "colab_type": "code",
        "outputId": "6b4af175-a9ee-4e6e-ba58-f1566075b882",
        "colab": {
          "base_uri": "https://localhost:8080/",
          "height": 34
        }
      },
      "source": [
        "print(power_of_2(40))"
      ],
      "execution_count": 0,
      "outputs": [
        {
          "output_type": "stream",
          "text": [
            "[ 2.  4.  8. 16. 32.]\n"
          ],
          "name": "stdout"
        }
      ]
    },
    {
      "cell_type": "code",
      "metadata": {
        "id": "IQ-rEsULYOvw",
        "colab_type": "code",
        "colab": {}
      },
      "source": [
        "max_value = T.scalar()\n",
        "\n",
        "results, _ = theano.scan(fn = lambda v_pre, max_v: (v_pre * 2, theano.scan_module.until(v_pre * 2 > max_v)), \n",
        "                         outputs_info = T.constant(1.),\n",
        "                         non_sequences = max_value,\n",
        "                         n_steps = 1000)"
      ],
      "execution_count": 0,
      "outputs": []
    },
    {
      "cell_type": "code",
      "metadata": {
        "id": "2MNQSErMX4Mn",
        "colab_type": "code",
        "colab": {}
      },
      "source": [
        "power_of_2_all = theano.function(inputs = [max_value], outputs = results)"
      ],
      "execution_count": 0,
      "outputs": []
    },
    {
      "cell_type": "code",
      "metadata": {
        "id": "nmJPbf9zX6d8",
        "colab_type": "code",
        "outputId": "bf64f59a-91ec-412f-f610-9d121498cbda",
        "colab": {
          "base_uri": "https://localhost:8080/",
          "height": 34
        }
      },
      "source": [
        "print(power_of_2_all(40))"
      ],
      "execution_count": 0,
      "outputs": [
        {
          "output_type": "stream",
          "text": [
            "[ 2.  4.  8. 16. 32. 64.]\n"
          ],
          "name": "stdout"
        }
      ]
    }
  ]
}