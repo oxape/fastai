{
 "cells": [
  {
   "cell_type": "code",
   "execution_count": 1,
   "metadata": {},
   "outputs": [],
   "source": [
    "import numpy as np"
   ]
  },
  {
   "cell_type": "code",
   "execution_count": 2,
   "metadata": {},
   "outputs": [],
   "source": [
    "from numpy.random import random"
   ]
  },
  {
   "cell_type": "code",
   "execution_count": 3,
   "metadata": {},
   "outputs": [
    {
     "name": "stderr",
     "output_type": "stream",
     "text": [
      "Using TensorFlow backend.\n"
     ]
    }
   ],
   "source": [
    "import keras"
   ]
  },
  {
   "cell_type": "code",
   "execution_count": 4,
   "metadata": {},
   "outputs": [],
   "source": [
    "from keras.utils import plot_model\n",
    "from PIL import Image\n",
    "from IPython.display import SVG\n",
    "from keras.utils.vis_utils import model_to_dot"
   ]
  },
  {
   "cell_type": "code",
   "execution_count": 5,
   "metadata": {},
   "outputs": [],
   "source": [
    "from keras import backend as K\n",
    "from keras.utils.data_utils import get_file\n",
    "from keras.models import Sequential\n",
    "from keras.layers import Input\n",
    "from keras.layers.core import Flatten, Dense, Dropout, Lambda\n",
    "from keras.layers.convolutional import Convolution2D, MaxPooling2D, ZeroPadding2D\n",
    "from keras.optimizers import SGD, RMSprop\n",
    "from keras.preprocessing import image"
   ]
  },
  {
   "cell_type": "code",
   "execution_count": 6,
   "metadata": {},
   "outputs": [],
   "source": [
    "x = random((30, 2))\n",
    "y = np.dot(x, [2., 3.]) + 1."
   ]
  },
  {
   "cell_type": "code",
   "execution_count": 7,
   "metadata": {},
   "outputs": [
    {
     "data": {
      "text/plain": [
       "array([[0.59093067, 0.84083757],\n",
       "       [0.15420766, 0.41573292],\n",
       "       [0.00512788, 0.0922128 ],\n",
       "       [0.21722223, 0.6856562 ],\n",
       "       [0.69373286, 0.89082525]])"
      ]
     },
     "execution_count": 7,
     "metadata": {},
     "output_type": "execute_result"
    }
   ],
   "source": [
    "x[:5]"
   ]
  },
  {
   "cell_type": "code",
   "execution_count": 8,
   "metadata": {},
   "outputs": [
    {
     "data": {
      "text/plain": [
       "array([4.70437404, 2.55561409, 1.28689416, 3.49141305, 5.05994148])"
      ]
     },
     "execution_count": 8,
     "metadata": {},
     "output_type": "execute_result"
    }
   ],
   "source": [
    "y[:5]"
   ]
  },
  {
   "cell_type": "code",
   "execution_count": 9,
   "metadata": {},
   "outputs": [],
   "source": [
    "lm = Sequential([ Dense(1, input_shape=(2,)) ])\n",
    "lm.compile(optimizer=SGD(lr=0.1), loss='mse')"
   ]
  },
  {
   "cell_type": "code",
   "execution_count": 10,
   "metadata": {},
   "outputs": [
    {
     "data": {
      "image/svg+xml": [
       "<svg height=\"118pt\" viewBox=\"0.00 0.00 175.24 118.00\" width=\"175pt\" xmlns=\"http://www.w3.org/2000/svg\" xmlns:xlink=\"http://www.w3.org/1999/xlink\">\n",
       "<g class=\"graph\" id=\"graph0\" transform=\"scale(1 1) rotate(0) translate(4 114)\">\n",
       "<title>G</title>\n",
       "<polygon fill=\"#ffffff\" points=\"-4,4 -4,-114 171.2392,-114 171.2392,4 -4,4\" stroke=\"transparent\"/>\n",
       "<!-- 140219042738528 -->\n",
       "<g class=\"node\" id=\"node1\">\n",
       "<title>140219042738528</title>\n",
       "<polygon fill=\"none\" points=\"0,-73.5 0,-109.5 167.2392,-109.5 167.2392,-73.5 0,-73.5\" stroke=\"#000000\"/>\n",
       "<text fill=\"#000000\" font-family=\"Times,serif\" font-size=\"14.00\" text-anchor=\"middle\" x=\"83.6196\" y=\"-87.3\">dense_1_input: InputLayer</text>\n",
       "</g>\n",
       "<!-- 140219042651720 -->\n",
       "<g class=\"node\" id=\"node2\">\n",
       "<title>140219042651720</title>\n",
       "<polygon fill=\"none\" points=\"31.4972,-.5 31.4972,-36.5 135.742,-36.5 135.742,-.5 31.4972,-.5\" stroke=\"#000000\"/>\n",
       "<text fill=\"#000000\" font-family=\"Times,serif\" font-size=\"14.00\" text-anchor=\"middle\" x=\"83.6196\" y=\"-14.3\">dense_1: Dense</text>\n",
       "</g>\n",
       "<!-- 140219042738528&#45;&gt;140219042651720 -->\n",
       "<g class=\"edge\" id=\"edge1\">\n",
       "<title>140219042738528-&gt;140219042651720</title>\n",
       "<path d=\"M83.6196,-73.4551C83.6196,-65.3828 83.6196,-55.6764 83.6196,-46.6817\" fill=\"none\" stroke=\"#000000\"/>\n",
       "<polygon fill=\"#000000\" points=\"87.1197,-46.5903 83.6196,-36.5904 80.1197,-46.5904 87.1197,-46.5903\" stroke=\"#000000\"/>\n",
       "</g>\n",
       "</g>\n",
       "</svg>"
      ],
      "text/plain": [
       "<IPython.core.display.SVG object>"
      ]
     },
     "execution_count": 10,
     "metadata": {},
     "output_type": "execute_result"
    }
   ],
   "source": [
    "SVG(model_to_dot(lm).create(prog='dot', format='svg'))"
   ]
  },
  {
   "cell_type": "code",
   "execution_count": 11,
   "metadata": {},
   "outputs": [
    {
     "data": {
      "text/plain": [
       "13.333196640014648"
      ]
     },
     "execution_count": 11,
     "metadata": {},
     "output_type": "execute_result"
    }
   ],
   "source": [
    "lm.evaluate(x, y, verbose=0)"
   ]
  },
  {
   "cell_type": "code",
   "execution_count": 12,
   "metadata": {},
   "outputs": [
    {
     "name": "stderr",
     "output_type": "stream",
     "text": [
      "/usr/local/lib/python3.5/dist-packages/keras/models.py:981: UserWarning: The `nb_epoch` argument in `fit` has been renamed `epochs`.\n",
      "  warnings.warn('The `nb_epoch` argument in `fit` '\n"
     ]
    },
    {
     "name": "stdout",
     "output_type": "stream",
     "text": [
      "Epoch 1/5\n",
      "30/30 [==============================] - 0s 8ms/step - loss: 1.1901\n",
      "Epoch 2/5\n",
      "30/30 [==============================] - 0s 872us/step - loss: 0.1296\n",
      "Epoch 3/5\n",
      "30/30 [==============================] - 0s 780us/step - loss: 0.0623\n",
      "Epoch 4/5\n",
      "30/30 [==============================] - 0s 750us/step - loss: 0.0276\n",
      "Epoch 5/5\n",
      "30/30 [==============================] - 0s 728us/step - loss: 0.0125\n"
     ]
    },
    {
     "data": {
      "text/plain": [
       "<keras.callbacks.History at 0x7f874a33fdd8>"
      ]
     },
     "execution_count": 12,
     "metadata": {},
     "output_type": "execute_result"
    }
   ],
   "source": [
    "lm.fit(x, y, epochs=5, batch_size=1)"
   ]
  },
  {
   "cell_type": "code",
   "execution_count": 13,
   "metadata": {},
   "outputs": [
    {
     "data": {
      "text/plain": [
       "0.01126146037131548"
      ]
     },
     "execution_count": 13,
     "metadata": {},
     "output_type": "execute_result"
    }
   ],
   "source": [
    "lm.evaluate(x, y, verbose=0)"
   ]
  },
  {
   "cell_type": "code",
   "execution_count": 14,
   "metadata": {},
   "outputs": [
    {
     "data": {
      "text/plain": [
       "[array([[1.7406229],\n",
       "        [2.826697 ]], dtype=float32), array([1.1631604], dtype=float32)]"
      ]
     },
     "execution_count": 14,
     "metadata": {},
     "output_type": "execute_result"
    }
   ],
   "source": [
    "lm.get_weights()"
   ]
  },
  {
   "cell_type": "code",
   "execution_count": 15,
   "metadata": {},
   "outputs": [
    {
     "name": "stdout",
     "output_type": "stream",
     "text": [
      "Epoch 1/10\n",
      "30/30 [==============================] - 0s 929us/step - loss: 0.0063\n",
      "Epoch 2/10\n",
      "30/30 [==============================] - 0s 724us/step - loss: 0.0034\n",
      "Epoch 3/10\n",
      "30/30 [==============================] - 0s 741us/step - loss: 0.0014\n",
      "Epoch 4/10\n",
      "30/30 [==============================] - 0s 715us/step - loss: 7.2169e-04\n",
      "Epoch 5/10\n",
      "30/30 [==============================] - 0s 721us/step - loss: 3.5618e-04\n",
      "Epoch 6/10\n",
      "30/30 [==============================] - 0s 746us/step - loss: 1.6859e-04\n",
      "Epoch 7/10\n",
      "30/30 [==============================] - 0s 729us/step - loss: 8.0255e-05\n",
      "Epoch 8/10\n",
      "30/30 [==============================] - 0s 726us/step - loss: 3.6038e-05\n",
      "Epoch 9/10\n",
      " 1/30 [>.............................] - ETA: 0s - loss: 1.1968e-05"
     ]
    },
    {
     "name": "stderr",
     "output_type": "stream",
     "text": [
      "/usr/local/lib/python3.5/dist-packages/keras/models.py:981: UserWarning: The `nb_epoch` argument in `fit` has been renamed `epochs`.\n",
      "  warnings.warn('The `nb_epoch` argument in `fit` '\n"
     ]
    },
    {
     "name": "stdout",
     "output_type": "stream",
     "text": [
      "30/30 [==============================] - 0s 766us/step - loss: 1.7568e-05\n",
      "Epoch 10/10\n",
      "30/30 [==============================] - 0s 786us/step - loss: 8.4975e-06\n"
     ]
    },
    {
     "data": {
      "text/plain": [
       "<keras.callbacks.History at 0x7f874a2a7358>"
      ]
     },
     "execution_count": 15,
     "metadata": {},
     "output_type": "execute_result"
    }
   ],
   "source": [
    "lm.fit(x, y, epochs=10, batch_size=1)"
   ]
  },
  {
   "cell_type": "code",
   "execution_count": 16,
   "metadata": {},
   "outputs": [
    {
     "data": {
      "text/plain": [
       "6.530992777697975e-06"
      ]
     },
     "execution_count": 16,
     "metadata": {},
     "output_type": "execute_result"
    }
   ],
   "source": [
    "lm.evaluate(x, y, verbose=0)"
   ]
  },
  {
   "cell_type": "code",
   "execution_count": 15,
   "metadata": {},
   "outputs": [
    {
     "data": {
      "text/plain": [
       "[array([[1.9686714],\n",
       "        [2.942474 ]], dtype=float32), array([1.0371435], dtype=float32)]"
      ]
     },
     "execution_count": 15,
     "metadata": {},
     "output_type": "execute_result"
    }
   ],
   "source": [
    "lm.get_weights()"
   ]
  },
  {
   "cell_type": "code",
   "execution_count": 17,
   "metadata": {},
   "outputs": [
    {
     "name": "stdout",
     "output_type": "stream",
     "text": [
      "Epoch 1/20\n",
      "30/30 [==============================] - 0s 886us/step - loss: 4.3565e-06\n",
      "Epoch 2/20\n",
      "30/30 [==============================] - 0s 730us/step - loss: 2.0407e-06\n",
      "Epoch 3/20\n",
      "30/30 [==============================] - 0s 759us/step - loss: 8.8844e-07\n",
      "Epoch 4/20\n",
      "30/30 [==============================] - 0s 746us/step - loss: 5.0796e-07\n",
      "Epoch 5/20\n",
      "30/30 [==============================] - 0s 753us/step - loss: 2.5793e-07\n",
      "Epoch 6/20\n",
      "30/30 [==============================] - 0s 729us/step - loss: 1.3581e-07\n",
      "Epoch 7/20\n",
      "30/30 [==============================] - 0s 702us/step - loss: 5.4268e-08\n",
      "Epoch 8/20\n",
      "30/30 [==============================] - 0s 753us/step - loss: 3.6712e-08\n",
      "Epoch 9/20\n",
      "30/30 [==============================] - 0s 740us/step - loss: 1.7209e-08\n",
      "Epoch 10/20\n",
      "30/30 [==============================] - 0s 751us/step - loss: 9.3994e-09\n",
      "Epoch 11/20\n",
      "30/30 [==============================] - 0s 763us/step - loss: 4.6557e-09\n",
      "Epoch 12/20\n",
      "30/30 [==============================] - 0s 735us/step - loss: 2.2678e-09\n",
      "Epoch 13/20\n",
      "30/30 [==============================] - 0s 728us/step - loss: 1.2748e-09\n",
      "Epoch 14/20\n",
      "30/30 [==============================] - 0s 729us/step - loss: 6.4695e-10\n",
      "Epoch 15/20\n",
      "30/30 [==============================] - 0s 772us/step - loss: 3.4898e-10\n",
      "Epoch 16/20\n",
      "30/30 [==============================] - 0s 724us/step - loss: 1.4917e-10\n",
      "Epoch 17/20\n",
      "30/30 [==============================] - 0s 729us/step - loss: 8.6519e-11\n",
      "Epoch 18/20\n",
      "30/30 [==============================] - 0s 768us/step - loss: 4.4278e-11\n",
      "Epoch 19/20\n",
      "30/30 [==============================] - 0s 790us/step - loss: 1.9977e-11\n",
      "Epoch 20/20\n",
      "30/30 [==============================] - 0s 745us/step - loss: 1.1089e-11\n"
     ]
    },
    {
     "data": {
      "text/plain": [
       "<keras.callbacks.History at 0x7f874a3a5a20>"
      ]
     },
     "execution_count": 17,
     "metadata": {},
     "output_type": "execute_result"
    }
   ],
   "source": [
    "lm.fit(x, y, epochs=20, batch_size=1)"
   ]
  },
  {
   "cell_type": "code",
   "execution_count": 20,
   "metadata": {},
   "outputs": [
    {
     "data": {
      "text/plain": [
       "6.0310866543955566e-12"
      ]
     },
     "execution_count": 20,
     "metadata": {},
     "output_type": "execute_result"
    }
   ],
   "source": [
    "lm.evaluate(x, y, verbose=0)"
   ]
  },
  {
   "cell_type": "code",
   "execution_count": 21,
   "metadata": {},
   "outputs": [
    {
     "data": {
      "text/plain": [
       "[array([[2.0000002],\n",
       "        [2.9999907]], dtype=float32), array([1.0000052], dtype=float32)]"
      ]
     },
     "execution_count": 21,
     "metadata": {},
     "output_type": "execute_result"
    }
   ],
   "source": [
    "lm.get_weights()"
   ]
  },
  {
   "cell_type": "code",
   "execution_count": null,
   "metadata": {},
   "outputs": [],
   "source": []
  }
 ],
 "metadata": {
  "kernelspec": {
   "display_name": "Python 3",
   "language": "python",
   "name": "python3"
  },
  "language_info": {
   "codemirror_mode": {
    "name": "ipython",
    "version": 3
   },
   "file_extension": ".py",
   "mimetype": "text/x-python",
   "name": "python",
   "nbconvert_exporter": "python",
   "pygments_lexer": "ipython3",
   "version": "3.5.2"
  }
 },
 "nbformat": 4,
 "nbformat_minor": 2
}
