{
 "cells": [
  {
   "cell_type": "code",
   "execution_count": 1,
   "metadata": {},
   "outputs": [],
   "source": [
    "import numpy as np"
   ]
  },
  {
   "cell_type": "code",
   "execution_count": 2,
   "metadata": {},
   "outputs": [],
   "source": [
    "from numpy.random import random"
   ]
  },
  {
   "cell_type": "code",
   "execution_count": 6,
   "metadata": {},
   "outputs": [
    {
     "name": "stderr",
     "output_type": "stream",
     "text": [
      "Using TensorFlow backend.\n"
     ]
    }
   ],
   "source": [
    "import keras"
   ]
  },
  {
   "cell_type": "code",
   "execution_count": 7,
   "metadata": {},
   "outputs": [],
   "source": [
    "from keras import backend as K\n",
    "from keras.utils.data_utils import get_file\n",
    "from keras.models import Sequential\n",
    "from keras.layers import Input\n",
    "from keras.layers.core import Flatten, Dense, Dropout, Lambda\n",
    "from keras.layers.convolutional import Convolution2D, MaxPooling2D, ZeroPadding2D\n",
    "from keras.optimizers import SGD, RMSprop\n",
    "from keras.preprocessing import image"
   ]
  },
  {
   "cell_type": "code",
   "execution_count": 3,
   "metadata": {},
   "outputs": [],
   "source": [
    "x = random((30, 2))\n",
    "y = np.dot(x, [2., 3.]) + 1."
   ]
  },
  {
   "cell_type": "code",
   "execution_count": 4,
   "metadata": {},
   "outputs": [
    {
     "data": {
      "text/plain": [
       "array([[0.26809708, 0.14969939],\n",
       "       [0.99805109, 0.14365377],\n",
       "       [0.64094635, 0.04463056],\n",
       "       [0.99048222, 0.45045058],\n",
       "       [0.29588724, 0.21790034]])"
      ]
     },
     "execution_count": 4,
     "metadata": {},
     "output_type": "execute_result"
    }
   ],
   "source": [
    "x[:5]"
   ]
  },
  {
   "cell_type": "code",
   "execution_count": 5,
   "metadata": {},
   "outputs": [
    {
     "data": {
      "text/plain": [
       "array([1.98529233, 3.42706348, 2.41578437, 4.3323162 , 2.24547551])"
      ]
     },
     "execution_count": 5,
     "metadata": {},
     "output_type": "execute_result"
    }
   ],
   "source": [
    "y[:5]"
   ]
  },
  {
   "cell_type": "code",
   "execution_count": 8,
   "metadata": {},
   "outputs": [],
   "source": [
    "lm = Sequential([ Dense(1, input_shape=(2,)) ])\n",
    "lm.compile(optimizer=SGD(lr=0.1), loss='mse')"
   ]
  },
  {
   "cell_type": "code",
   "execution_count": 9,
   "metadata": {},
   "outputs": [
    {
     "data": {
      "text/plain": [
       "16.420442581176758"
      ]
     },
     "execution_count": 9,
     "metadata": {},
     "output_type": "execute_result"
    }
   ],
   "source": [
    "lm.evaluate(x, y, verbose=0)"
   ]
  },
  {
   "cell_type": "code",
   "execution_count": 10,
   "metadata": {},
   "outputs": [
    {
     "name": "stderr",
     "output_type": "stream",
     "text": [
      "/usr/local/lib/python3.5/dist-packages/keras/models.py:981: UserWarning: The `nb_epoch` argument in `fit` has been renamed `epochs`.\n",
      "  warnings.warn('The `nb_epoch` argument in `fit` '\n"
     ]
    },
    {
     "name": "stdout",
     "output_type": "stream",
     "text": [
      "Epoch 1/5\n",
      "30/30 [==============================] - 0s 8ms/step - loss: 1.4762\n",
      "Epoch 2/5\n",
      "30/30 [==============================] - 0s 1ms/step - loss: 0.2825\n",
      "Epoch 3/5\n",
      "30/30 [==============================] - 0s 2ms/step - loss: 0.1750\n",
      "Epoch 4/5\n",
      "30/30 [==============================] - 0s 1ms/step - loss: 0.1078\n",
      "Epoch 5/5\n",
      "30/30 [==============================] - 0s 1ms/step - loss: 0.0632\n"
     ]
    },
    {
     "data": {
      "text/plain": [
       "<keras.callbacks.History at 0x7efd135f8fd0>"
      ]
     },
     "execution_count": 10,
     "metadata": {},
     "output_type": "execute_result"
    }
   ],
   "source": [
    "lm.fit(x, y, nb_epoch=5, batch_size=1)"
   ]
  },
  {
   "cell_type": "code",
   "execution_count": 11,
   "metadata": {},
   "outputs": [
    {
     "data": {
      "text/plain": [
       "0.042416755110025406"
      ]
     },
     "execution_count": 11,
     "metadata": {},
     "output_type": "execute_result"
    }
   ],
   "source": [
    "lm.evaluate(x, y, verbose=0)"
   ]
  },
  {
   "cell_type": "code",
   "execution_count": 12,
   "metadata": {},
   "outputs": [
    {
     "data": {
      "text/plain": [
       "[array([[1.6595542],\n",
       "        [2.3209388]], dtype=float32), array([1.5815321], dtype=float32)]"
      ]
     },
     "execution_count": 12,
     "metadata": {},
     "output_type": "execute_result"
    }
   ],
   "source": [
    "lm.get_weights()"
   ]
  },
  {
   "cell_type": "code",
   "execution_count": 13,
   "metadata": {},
   "outputs": [
    {
     "name": "stdout",
     "output_type": "stream",
     "text": [
      "Epoch 1/10\n",
      "30/30 [==============================] - 0s 1ms/step - loss: 0.0324\n",
      "Epoch 2/10\n",
      "30/30 [==============================] - 0s 942us/step - loss: 0.0237\n",
      "Epoch 3/10\n",
      "30/30 [==============================] - 0s 1ms/step - loss: 0.0133\n",
      "Epoch 4/10\n",
      "30/30 [==============================] - 0s 1ms/step - loss: 0.0086\n",
      "Epoch 5/10\n",
      "30/30 [==============================] - 0s 1ms/step - loss: 0.0048\n",
      "Epoch 6/10\n",
      " 1/30 [>.............................] - ETA: 0s - loss: 0.0054"
     ]
    },
    {
     "name": "stderr",
     "output_type": "stream",
     "text": [
      "/usr/local/lib/python3.5/dist-packages/keras/models.py:981: UserWarning: The `nb_epoch` argument in `fit` has been renamed `epochs`.\n",
      "  warnings.warn('The `nb_epoch` argument in `fit` '\n"
     ]
    },
    {
     "name": "stdout",
     "output_type": "stream",
     "text": [
      "30/30 [==============================] - 0s 2ms/step - loss: 0.0029\n",
      "Epoch 7/10\n",
      "30/30 [==============================] - 0s 2ms/step - loss: 0.0018\n",
      "Epoch 8/10\n",
      "30/30 [==============================] - 0s 1ms/step - loss: 0.0010\n",
      "Epoch 9/10\n",
      "30/30 [==============================] - 0s 1ms/step - loss: 6.6039e-04\n",
      "Epoch 10/10\n",
      "30/30 [==============================] - 0s 1ms/step - loss: 3.7887e-04\n"
     ]
    },
    {
     "data": {
      "text/plain": [
       "<keras.callbacks.History at 0x7efcd84b69b0>"
      ]
     },
     "execution_count": 13,
     "metadata": {},
     "output_type": "execute_result"
    }
   ],
   "source": [
    "lm.fit(x, y, nb_epoch=10, batch_size=1)"
   ]
  },
  {
   "cell_type": "code",
   "execution_count": 14,
   "metadata": {},
   "outputs": [
    {
     "data": {
      "text/plain": [
       "0.00027300629881210625"
      ]
     },
     "execution_count": 14,
     "metadata": {},
     "output_type": "execute_result"
    }
   ],
   "source": [
    "lm.evaluate(x, y, verbose=0)"
   ]
  },
  {
   "cell_type": "code",
   "execution_count": 15,
   "metadata": {},
   "outputs": [
    {
     "data": {
      "text/plain": [
       "[array([[1.9686714],\n",
       "        [2.942474 ]], dtype=float32), array([1.0371435], dtype=float32)]"
      ]
     },
     "execution_count": 15,
     "metadata": {},
     "output_type": "execute_result"
    }
   ],
   "source": [
    "lm.get_weights()"
   ]
  },
  {
   "cell_type": "code",
   "execution_count": 16,
   "metadata": {},
   "outputs": [
    {
     "name": "stdout",
     "output_type": "stream",
     "text": [
      "Epoch 1/20\n",
      "30/30 [==============================] - 0s 1ms/step - loss: 2.2900e-04\n",
      "Epoch 2/20\n",
      "30/30 [==============================] - 0s 1ms/step - loss: 1.3060e-04\n",
      "Epoch 3/20\n",
      "30/30 [==============================] - 0s 1ms/step - loss: 7.3017e-05\n",
      "Epoch 4/20\n",
      "30/30 [==============================] - 0s 1ms/step - loss: 4.9731e-05\n",
      "Epoch 5/20\n",
      "30/30 [==============================] - 0s 1ms/step - loss: 2.9870e-05\n",
      "Epoch 6/20\n",
      "30/30 [==============================] - 0s 1ms/step - loss: 1.8336e-05\n",
      "Epoch 7/20\n",
      "30/30 [==============================] - 0s 1ms/step - loss: 1.1155e-05\n",
      "Epoch 8/20\n",
      "30/30 [==============================] - 0s 1ms/step - loss: 6.7971e-06\n",
      "Epoch 9/20\n",
      "30/30 [==============================] - 0s 1ms/step - loss: 3.7659e-06\n",
      "Epoch 10/20\n",
      "30/30 [==============================] - 0s 1ms/step - loss: 2.2895e-06\n",
      "Epoch 11/20\n",
      "30/30 [==============================] - 0s 1ms/step - loss: 1.3199e-06\n",
      "Epoch 12/20\n",
      "30/30 [==============================] - 0s 1ms/step - loss: 7.0202e-07\n",
      "Epoch 13/20\n",
      "30/30 [==============================] - 0s 1ms/step - loss: 5.4510e-07\n",
      "Epoch 14/20\n",
      "30/30 [==============================] - 0s 1ms/step - loss: 3.2320e-07\n",
      "Epoch 15/20\n",
      "30/30 [==============================] - 0s 1ms/step - loss: 1.7477e-07\n",
      "Epoch 16/20\n",
      "30/30 [==============================] - 0s 969us/step - loss: 1.3299e-07\n",
      "Epoch 17/20\n",
      "30/30 [==============================] - 0s 1ms/step - loss: 7.6710e-08\n",
      "Epoch 18/20\n",
      "30/30 [==============================] - 0s 1ms/step - loss: 3.8915e-08\n",
      "Epoch 19/20\n",
      "30/30 [==============================] - 0s 1ms/step - loss: 2.8335e-08\n",
      "Epoch 20/20\n",
      "30/30 [==============================] - 0s 1ms/step - loss: 1.8313e-08\n"
     ]
    },
    {
     "data": {
      "text/plain": [
       "<keras.callbacks.History at 0x7efcdb07e2b0>"
      ]
     },
     "execution_count": 16,
     "metadata": {},
     "output_type": "execute_result"
    }
   ],
   "source": [
    "lm.fit(x, y, epochs=20, batch_size=1)"
   ]
  },
  {
   "cell_type": "code",
   "execution_count": 17,
   "metadata": {},
   "outputs": [
    {
     "data": {
      "text/plain": [
       "1.0159893371053386e-08"
      ]
     },
     "execution_count": 17,
     "metadata": {},
     "output_type": "execute_result"
    }
   ],
   "source": [
    "lm.evaluate(x, y, verbose=0)"
   ]
  },
  {
   "cell_type": "code",
   "execution_count": 18,
   "metadata": {},
   "outputs": [
    {
     "data": {
      "text/plain": [
       "[array([[1.9997923],\n",
       "        [2.999636 ]], dtype=float32), array([1.0002773], dtype=float32)]"
      ]
     },
     "execution_count": 18,
     "metadata": {},
     "output_type": "execute_result"
    }
   ],
   "source": [
    "lm.get_weights()"
   ]
  },
  {
   "cell_type": "code",
   "execution_count": null,
   "metadata": {},
   "outputs": [],
   "source": []
  }
 ],
 "metadata": {
  "kernelspec": {
   "display_name": "Python 3",
   "language": "python",
   "name": "python3"
  },
  "language_info": {
   "codemirror_mode": {
    "name": "ipython",
    "version": 3
   },
   "file_extension": ".py",
   "mimetype": "text/x-python",
   "name": "python",
   "nbconvert_exporter": "python",
   "pygments_lexer": "ipython3",
   "version": "3.5.2"
  }
 },
 "nbformat": 4,
 "nbformat_minor": 2
}
